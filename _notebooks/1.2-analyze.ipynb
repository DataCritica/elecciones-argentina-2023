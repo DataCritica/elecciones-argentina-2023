{
 "cells": [
  {
   "cell_type": "code",
   "execution_count": 26,
   "metadata": {},
   "outputs": [],
   "source": [
    "import pandas as pd\n",
    "import numpy as np\n",
    "from tqdm import tqdm\n",
    "import torch\n",
    "from transformers import AutoTokenizer, AutoModelForSequenceClassification"
   ]
  },
  {
   "cell_type": "code",
   "execution_count": 27,
   "metadata": {},
   "outputs": [
    {
     "name": "stderr",
     "output_type": "stream",
     "text": [
      "Special tokens have been added in the vocabulary, make sure the associated word embeddings are fine-tuned or trained.\n"
     ]
    }
   ],
   "source": [
    "model_name = \"piubamas/beto-contextualized-hate-speech\"\n",
    "# Load tokenizer and model\n",
    "tokenizer = AutoTokenizer.from_pretrained(model_name)\n",
    "model = AutoModelForSequenceClassification.from_pretrained(model_name)"
   ]
  },
  {
   "cell_type": "code",
   "execution_count": 30,
   "metadata": {},
   "outputs": [
    {
     "name": "stdout",
     "output_type": "stream",
     "text": [
      "55374\n"
     ]
    }
   ],
   "source": [
    "df = pd.read_csv('../data/raw/elecciones_argentina.csv')\n",
    "\n",
    "print(len(df))"
   ]
  },
  {
   "cell_type": "code",
   "execution_count": 31,
   "metadata": {},
   "outputs": [
    {
     "name": "stdout",
     "output_type": "stream",
     "text": [
      "52476\n"
     ]
    }
   ],
   "source": [
    "filtered_df = df.dropna(subset=['text'])\n",
    "\n",
    "print(len(filtered_df))"
   ]
  },
  {
   "cell_type": "code",
   "execution_count": 32,
   "metadata": {},
   "outputs": [],
   "source": [
    "id2label = [model.config.id2label[k] for k in range(len(model.config.id2label))]\n",
    "\n",
    "def predict(*args):\n",
    "    try:\n",
    "        encoding = tokenizer.encode_plus(*args)\n",
    "\n",
    "        inputs = {\n",
    "            k: torch.LongTensor(encoding[k]).reshape(1, -1) for k in {\"input_ids\", \"attention_mask\", \"token_type_ids\"}\n",
    "        }\n",
    "\n",
    "        output = model.forward(\n",
    "            **inputs\n",
    "        )\n",
    "\n",
    "        chars = list(zip(id2label, list(output.logits[0].detach().cpu().numpy() > 0)))\n",
    "\n",
    "        return [char for char, pred in chars if pred]\n",
    "    \n",
    "    except Exception as e:\n",
    "        # Handle the error appropriately\n",
    "        print(\"An error occurred:\", str(e))\n",
    "        return np.nan"
   ]
  },
  {
   "cell_type": "code",
   "execution_count": 33,
   "metadata": {},
   "outputs": [
    {
     "name": "stderr",
     "output_type": "stream",
     "text": [
      "100%|██████████| 52476/52476 [1:06:43<00:00, 13.11it/s]\n",
      "/tmp/ipykernel_13246/4286658429.py:8: SettingWithCopyWarning: \n",
      "A value is trying to be set on a copy of a slice from a DataFrame.\n",
      "Try using .loc[row_indexer,col_indexer] = value instead\n",
      "\n",
      "See the caveats in the documentation: https://pandas.pydata.org/pandas-docs/stable/user_guide/indexing.html#returning-a-view-versus-a-copy\n",
      "  filtered_df['label'] = outputs\n"
     ]
    }
   ],
   "source": [
    "texts = filtered_df['text'].to_list()\n",
    "\n",
    "outputs = []\n",
    "for text in tqdm(texts):\n",
    "    output = predict(text)\n",
    "    outputs.append(output)\n",
    "\n",
    "filtered_df['label'] = outputs"
   ]
  },
  {
   "cell_type": "code",
   "execution_count": 36,
   "metadata": {},
   "outputs": [],
   "source": [
    "filtered_df.to_csv('../data/raw/datos_etiquetados.csv', index=False)"
   ]
  }
 ],
 "metadata": {
  "kernelspec": {
   "display_name": "elecciones_argentina_2023-1wwx-vGm",
   "language": "python",
   "name": "python3"
  },
  "language_info": {
   "codemirror_mode": {
    "name": "ipython",
    "version": 3
   },
   "file_extension": ".py",
   "mimetype": "text/x-python",
   "name": "python",
   "nbconvert_exporter": "python",
   "pygments_lexer": "ipython3",
   "version": "3.11.4"
  }
 },
 "nbformat": 4,
 "nbformat_minor": 2
}
