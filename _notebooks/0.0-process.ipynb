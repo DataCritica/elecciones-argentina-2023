{
 "cells": [
  {
   "cell_type": "code",
   "execution_count": 1,
   "metadata": {},
   "outputs": [],
   "source": [
    "import pandas as pd\n",
    "from pytz import timezone"
   ]
  },
  {
   "cell_type": "code",
   "execution_count": 8,
   "metadata": {},
   "outputs": [
    {
     "name": "stdout",
     "output_type": "stream",
     "text": [
      "Database with 84648 tweets\n"
     ]
    }
   ],
   "source": [
    "# List of file names\n",
    "files = [\n",
    "    \"../data/raw/1er_debate.csv\",\n",
    "    \"../data/raw/2do_debate.csv\",\n",
    "    \"../data/raw/elecciones_generales.csv\",\n",
    "    \"../data/raw/debate_balotaje.csv\",\n",
    "    \"../data/raw/elecciones_balotaje.csv\",\n",
    "]\n",
    "\n",
    "# List of corresponding event names\n",
    "events = [\n",
    "    \"1er debate\",\n",
    "    \"2do debate\",\n",
    "    \"elecciones generales\",\n",
    "    \"debate balotaje\",\n",
    "    \"elecciones balotaje\",\n",
    "]\n",
    "\n",
    "# Empty list to store the DataFrames\n",
    "dfs = []\n",
    "\n",
    "# Loop through the file names and event names simultaneously\n",
    "for file, event in zip(files, events):\n",
    "    # Read each CSV file into a DataFrame\n",
    "    df = pd.read_csv(file)\n",
    "\n",
    "    # Add a new column 'event' with the corresponding event name\n",
    "    df[\"event\"] = event\n",
    "\n",
    "    # Append the modified DataFrame to the list\n",
    "    dfs.append(df)\n",
    "\n",
    "# Concatenate the DataFrames in the list into one DataFrame\n",
    "df = pd.concat(dfs)\n",
    "\n",
    "# Print the number of tweets in the concatenated DataFrame\n",
    "print(f\"Database with {len(df)} tweets\")"
   ]
  },
  {
   "cell_type": "code",
   "execution_count": 9,
   "metadata": {},
   "outputs": [
    {
     "data": {
      "text/plain": [
       "0   2023-10-02 22:34:22+00:00\n",
       "1   2023-10-02 11:42:30+00:00\n",
       "2   2023-10-02 11:46:58+00:00\n",
       "Name: date_cleansed, dtype: datetime64[ns, UTC]"
      ]
     },
     "execution_count": 9,
     "metadata": {},
     "output_type": "execute_result"
    }
   ],
   "source": [
    "# replace 'T' from column\n",
    "df[\"date_cleansed\"] = df[\"date\"].str.replace(\"T\", \" \")\n",
    "\n",
    "# format datetime column\n",
    "df[\"date_cleansed\"] = pd.to_datetime(df[\"date_cleansed\"], errors=\"coerce\", utc=True)\n",
    "\n",
    "# show the first 3 rows\n",
    "df[\"date_cleansed\"].head(3)"
   ]
  },
  {
   "cell_type": "code",
   "execution_count": 10,
   "metadata": {},
   "outputs": [
    {
     "data": {
      "text/plain": [
       "0   2023-10-02 19:34:22-03:00\n",
       "1   2023-10-02 08:42:30-03:00\n",
       "2   2023-10-02 08:46:58-03:00\n",
       "Name: date_local, dtype: datetime64[ns, America/Argentina/Buenos_Aires]"
      ]
     },
     "execution_count": 10,
     "metadata": {},
     "output_type": "execute_result"
    }
   ],
   "source": [
    "# set timezone to Buenos Aires\n",
    "buenos_aires_tz = timezone(\"America/Argentina/Buenos_Aires\")\n",
    "\n",
    "# update timezone column\n",
    "df[\"date_local\"] = df[\"date_cleansed\"].dt.tz_convert(buenos_aires_tz)\n",
    "\n",
    "# show the first 3 rows\n",
    "df[\"date_local\"].head(3)"
   ]
  },
  {
   "cell_type": "code",
   "execution_count": 11,
   "metadata": {},
   "outputs": [
    {
     "data": {
      "text/plain": [
       "0   2023-10-02\n",
       "1   2023-10-02\n",
       "2   2023-10-02\n",
       "Name: dt_date, dtype: datetime64[ns]"
      ]
     },
     "execution_count": 11,
     "metadata": {},
     "output_type": "execute_result"
    }
   ],
   "source": [
    "# create a new column only with year, month and day\n",
    "df[\"dt_date\"] = df[\"date_local\"].dt.date\n",
    "\n",
    "# format datetime column\n",
    "df[\"dt_date\"] = pd.to_datetime(df[\"dt_date\"])\n",
    "\n",
    "# show the first 3 rows\n",
    "df[\"dt_date\"].head(3)"
   ]
  },
  {
   "cell_type": "code",
   "execution_count": 12,
   "metadata": {},
   "outputs": [
    {
     "name": "stdout",
     "output_type": "stream",
     "text": [
      "(84622, 22)\n"
     ]
    }
   ],
   "source": [
    "# filter the 'text' column for non-float values\n",
    "filtered_df = df[pd.to_numeric(df[\"text\"], errors=\"coerce\").isnull()]\n",
    "\n",
    "print(filtered_df.shape)"
   ]
  },
  {
   "cell_type": "code",
   "execution_count": 13,
   "metadata": {},
   "outputs": [],
   "source": [
    "filtered_df.to_csv(\"../data/raw/elecciones_argentina.csv\", index=False)"
   ]
  }
 ],
 "metadata": {
  "kernelspec": {
   "display_name": "elecciones_argentina_2023-1wwx-vGm",
   "language": "python",
   "name": "python3"
  },
  "language_info": {
   "codemirror_mode": {
    "name": "ipython",
    "version": 3
   },
   "file_extension": ".py",
   "mimetype": "text/x-python",
   "name": "python",
   "nbconvert_exporter": "python",
   "pygments_lexer": "ipython3",
   "version": "3.11.7"
  },
  "orig_nbformat": 4
 },
 "nbformat": 4,
 "nbformat_minor": 2
}
