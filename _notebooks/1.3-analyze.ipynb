{
 "cells": [
  {
   "cell_type": "code",
   "execution_count": 1,
   "metadata": {},
   "outputs": [],
   "source": [
    "import pandas as pd\n",
    "import nltk\n",
    "from nltk.collocations import BigramCollocationFinder\n",
    "from nltk.metrics import BigramAssocMeasures\n",
    "from nltk.collocations import TrigramCollocationFinder\n",
    "from nltk.metrics import TrigramAssocMeasures"
   ]
  },
  {
   "cell_type": "code",
   "execution_count": 2,
   "metadata": {},
   "outputs": [
    {
     "name": "stdout",
     "output_type": "stream",
     "text": [
      "(55374, 22)\n"
     ]
    }
   ],
   "source": [
    "# Read the DataFrame with the tweet text\n",
    "df = pd.read_csv(\"../data/raw/elecciones_argentina.csv\")\n",
    "print(df.shape)"
   ]
  },
  {
   "cell_type": "code",
   "execution_count": 3,
   "metadata": {},
   "outputs": [],
   "source": [
    "# Tokenize the tweet text\n",
    "tokenizer = nltk.tokenize.RegexpTokenizer(r'\\w+')\n",
    "df['tokens'] = df['text'].apply(lambda x: tokenizer.tokenize(str(x).lower()))\n",
    "tokens = df['tokens']"
   ]
  },
  {
   "cell_type": "code",
   "execution_count": 4,
   "metadata": {},
   "outputs": [
    {
     "name": "stdout",
     "output_type": "stream",
     "text": [
      "('de', 'periodista') 62\n",
      "('sos', 'periodista') 54\n",
      "('periodista', 'de') 49\n",
      "('un', 'periodista') 47\n",
      "('periodista', 'independiente') 45\n",
      "('el', 'periodista') 43\n",
      "('como', 'periodista') 40\n",
      "('periodista', 'que') 33\n",
      "('la', 'periodista') 30\n",
      "('periodista', 'y') 28\n",
      "('una', 'periodista') 22\n",
      "('periodista', 'sos') 21\n",
      "('es', 'periodista') 20\n",
      "('gran', 'periodista') 17\n",
      "('periodista', 'no') 13\n",
      "('ser', 'periodista') 12\n",
      "('periodista', 'militante') 12\n",
      "('mejor', 'periodista') 11\n",
      "('periodista', 'crítico') 11\n",
      "('periodista', 'pero') 10\n"
     ]
    }
   ],
   "source": [
    "# Find collocations with 'periodista' for each tweet\n",
    "collocations = []\n",
    "for tweet_tokens in tokens:\n",
    "    finder = BigramCollocationFinder.from_words(tweet_tokens)\n",
    "    tweet_collocations = finder.nbest(BigramAssocMeasures().raw_freq, 20)\n",
    "    collocations.extend(tweet_collocations)\n",
    "\n",
    "# Filter collocations that contain 'periodista'\n",
    "periodista_collocations = [col for col in collocations if 'periodista' in col]\n",
    "\n",
    "# Count the occurrences of each collocation\n",
    "collocation_counts = nltk.FreqDist(periodista_collocations)\n",
    "\n",
    "# Print the collocations and their counts\n",
    "for collocation, count in collocation_counts.most_common(20):\n",
    "    print(collocation, count)\n"
   ]
  },
  {
   "cell_type": "code",
   "execution_count": 5,
   "metadata": {},
   "outputs": [
    {
     "name": "stdout",
     "output_type": "stream",
     "text": [
      "('no', 'sos', 'periodista') 16\n",
      "('a', 'un', 'periodista') 12\n",
      "('vos', 'sos', 'periodista') 12\n",
      "('periodista', 'de', 'verdad') 11\n",
      "('un', 'periodista', 'de') 9\n",
      "('que', 'sos', 'periodista') 8\n",
      "('sos', 'un', 'periodista') 8\n",
      "('no', 'es', 'periodista') 7\n",
      "('la', 'periodista', 'que') 7\n",
      "('a', 'una', 'periodista') 7\n",
      "('sos', 'periodista', 'sos') 7\n",
      "('que', 'seas', 'periodista') 6\n",
      "('un', 'gran', 'periodista') 6\n",
      "('de', 'ser', 'periodista') 6\n",
      "('periodista', 'sos', 'un') 6\n",
      "('sos', 'una', 'periodista') 6\n",
      "('es', 'periodista', 'es') 5\n",
      "('un', 'periodista', 'independiente') 5\n",
      "('de', 'un', 'periodista') 5\n",
      "('la', 'periodista', 'independiente') 5\n"
     ]
    }
   ],
   "source": [
    "# Find collocations with 'periodista' for each tweet and count them\n",
    "collocations = []\n",
    "for tweet_tokens in tokens:\n",
    "    finder = TrigramCollocationFinder.from_words(tweet_tokens)\n",
    "    tweet_collocations = finder.nbest(TrigramAssocMeasures().raw_freq, 20)\n",
    "    collocations.extend(tweet_collocations)\n",
    "\n",
    "# Filter collocations that contain 'periodista'\n",
    "periodista_collocations = [col for col in collocations if 'periodista' in col]\n",
    "\n",
    "# Count the occurrences of each collocation\n",
    "collocation_counts = nltk.FreqDist(periodista_collocations)\n",
    "\n",
    "# Print the collocations and their counts\n",
    "for collocation, count in collocation_counts.most_common(20):\n",
    "    print(collocation, count)\n"
   ]
  }
 ],
 "metadata": {
  "kernelspec": {
   "display_name": "elecciones_argentina_2023-1wwx-vGm",
   "language": "python",
   "name": "python3"
  },
  "language_info": {
   "codemirror_mode": {
    "name": "ipython",
    "version": 3
   },
   "file_extension": ".py",
   "mimetype": "text/x-python",
   "name": "python",
   "nbconvert_exporter": "python",
   "pygments_lexer": "ipython3",
   "version": "3.11.4"
  }
 },
 "nbformat": 4,
 "nbformat_minor": 2
}
