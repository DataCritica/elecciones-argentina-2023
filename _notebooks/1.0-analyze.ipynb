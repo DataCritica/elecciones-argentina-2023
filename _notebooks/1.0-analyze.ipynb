{
 "cells": [
  {
   "cell_type": "code",
   "execution_count": 1,
   "metadata": {},
   "outputs": [
    {
     "name": "stderr",
     "output_type": "stream",
     "text": [
      "/home/fxr/.local/share/virtualenvs/elecciones_argentina_2023-1wwx-vGm/lib/python3.11/site-packages/tqdm/auto.py:21: TqdmWarning: IProgress not found. Please update jupyter and ipywidgets. See https://ipywidgets.readthedocs.io/en/stable/user_install.html\n",
      "  from .autonotebook import tqdm as notebook_tqdm\n"
     ]
    }
   ],
   "source": [
    "import pandas as pd\n",
    "import numpy as np\n",
    "from tqdm import tqdm\n",
    "import torch\n",
    "from transformers import AutoTokenizer, AutoModelForSequenceClassification"
   ]
  },
  {
   "cell_type": "code",
   "execution_count": 2,
   "metadata": {},
   "outputs": [
    {
     "name": "stderr",
     "output_type": "stream",
     "text": [
      "Special tokens have been added in the vocabulary, make sure the associated word embeddings are fine-tuned or trained.\n"
     ]
    }
   ],
   "source": [
    "model_name = \"piubamas/beto-contextualized-hate-speech\"\n",
    "# Load tokenizer and model\n",
    "tokenizer = AutoTokenizer.from_pretrained(model_name)\n",
    "model = AutoModelForSequenceClassification.from_pretrained(model_name)"
   ]
  },
  {
   "cell_type": "code",
   "execution_count": 3,
   "metadata": {},
   "outputs": [
    {
     "name": "stdout",
     "output_type": "stream",
     "text": [
      "84622\n"
     ]
    }
   ],
   "source": [
    "df = pd.read_csv(\"../data/raw/elecciones_argentina.csv\")\n",
    "\n",
    "print(len(df))"
   ]
  },
  {
   "cell_type": "code",
   "execution_count": 4,
   "metadata": {},
   "outputs": [
    {
     "name": "stdout",
     "output_type": "stream",
     "text": [
      "79887\n"
     ]
    }
   ],
   "source": [
    "filtered_df = df.dropna(subset=[\"text\"])\n",
    "\n",
    "print(len(filtered_df))"
   ]
  },
  {
   "cell_type": "code",
   "execution_count": 5,
   "metadata": {},
   "outputs": [],
   "source": [
    "id2label = [model.config.id2label[k] for k in range(len(model.config.id2label))]\n",
    "\n",
    "\n",
    "def predict(*args):\n",
    "    try:\n",
    "        encoding = tokenizer.encode_plus(*args)\n",
    "\n",
    "        inputs = {\n",
    "            k: torch.LongTensor(encoding[k]).reshape(1, -1)\n",
    "            for k in {\"input_ids\", \"attention_mask\", \"token_type_ids\"}\n",
    "        }\n",
    "\n",
    "        output = model.forward(**inputs)\n",
    "\n",
    "        chars = list(zip(id2label, list(output.logits[0].detach().cpu().numpy() > 0)))\n",
    "\n",
    "        return [char for char, pred in chars if pred]\n",
    "\n",
    "    except Exception as e:\n",
    "        # Handle the error appropriately\n",
    "        print(\"An error occurred:\", str(e))\n",
    "        return np.nan"
   ]
  },
  {
   "cell_type": "code",
   "execution_count": 6,
   "metadata": {},
   "outputs": [
    {
     "name": "stderr",
     "output_type": "stream",
     "text": [
      "100%|██████████| 79887/79887 [1:22:22<00:00, 16.16it/s]\n",
      "/tmp/ipykernel_20536/2153321994.py:8: SettingWithCopyWarning: \n",
      "A value is trying to be set on a copy of a slice from a DataFrame.\n",
      "Try using .loc[row_indexer,col_indexer] = value instead\n",
      "\n",
      "See the caveats in the documentation: https://pandas.pydata.org/pandas-docs/stable/user_guide/indexing.html#returning-a-view-versus-a-copy\n",
      "  filtered_df[\"label\"] = outputs\n"
     ]
    }
   ],
   "source": [
    "texts = filtered_df[\"text\"].to_list()\n",
    "\n",
    "outputs = []\n",
    "for text in tqdm(texts):\n",
    "    output = predict(text)\n",
    "    outputs.append(output)\n",
    "\n",
    "filtered_df[\"label\"] = outputs"
   ]
  },
  {
   "cell_type": "code",
   "execution_count": 9,
   "metadata": {},
   "outputs": [
    {
     "data": {
      "text/html": [
       "<div>\n",
       "<style scoped>\n",
       "    .dataframe tbody tr th:only-of-type {\n",
       "        vertical-align: middle;\n",
       "    }\n",
       "\n",
       "    .dataframe tbody tr th {\n",
       "        vertical-align: top;\n",
       "    }\n",
       "\n",
       "    .dataframe thead th {\n",
       "        text-align: right;\n",
       "    }\n",
       "</style>\n",
       "<table border=\"1\" class=\"dataframe\">\n",
       "  <thead>\n",
       "    <tr style=\"text-align: right;\">\n",
       "      <th></th>\n",
       "      <th>tweet_id</th>\n",
       "      <th>username</th>\n",
       "      <th>url</th>\n",
       "      <th>text</th>\n",
       "      <th>image</th>\n",
       "      <th>video</th>\n",
       "      <th>date</th>\n",
       "      <th>reply</th>\n",
       "      <th>retweet</th>\n",
       "      <th>like</th>\n",
       "      <th>...</th>\n",
       "      <th>is_rt</th>\n",
       "      <th>rt_by</th>\n",
       "      <th>raw</th>\n",
       "      <th>query_type</th>\n",
       "      <th>scraped_at</th>\n",
       "      <th>event</th>\n",
       "      <th>date_cleansed</th>\n",
       "      <th>date_local</th>\n",
       "      <th>dt_date</th>\n",
       "      <th>label</th>\n",
       "    </tr>\n",
       "  </thead>\n",
       "  <tbody>\n",
       "    <tr>\n",
       "      <th>0</th>\n",
       "      <td>1708973726455181497</td>\n",
       "      <td>@soyingridbeck</td>\n",
       "      <td>https://x.com/soyingridbeck/status/17089737264...</td>\n",
       "      <td>Sólo @SergioMassa y @myriambregman abordaron a...</td>\n",
       "      <td>NaN</td>\n",
       "      <td>NaN</td>\n",
       "      <td>2023-10-02T22:34:22+00:00</td>\n",
       "      <td>0</td>\n",
       "      <td>3</td>\n",
       "      <td>17</td>\n",
       "      <td>...</td>\n",
       "      <td>False</td>\n",
       "      <td>NaN</td>\n",
       "      <td>{'html_tweet': '𝗜𝗻𝗴𝗿𝗶𝗱 𝗕𝗲𝗰𝗸 @soyingridbeck·Oct...</td>\n",
       "      <td>from: @soyingridbeck</td>\n",
       "      <td>2023-10-10T17:43:36.448550+00:00</td>\n",
       "      <td>1er debate</td>\n",
       "      <td>2023-10-02 22:34:22+00:00</td>\n",
       "      <td>2023-10-02 19:34:22-03:00</td>\n",
       "      <td>2023-10-02</td>\n",
       "      <td>[]</td>\n",
       "    </tr>\n",
       "    <tr>\n",
       "      <th>1</th>\n",
       "      <td>1708809681924243938</td>\n",
       "      <td>@soyingridbeck</td>\n",
       "      <td>https://x.com/soyingridbeck/status/17088096819...</td>\n",
       "      <td>¿Irse a Marbella en un yate de lujo?</td>\n",
       "      <td>NaN</td>\n",
       "      <td>NaN</td>\n",
       "      <td>2023-10-02T11:42:30+00:00</td>\n",
       "      <td>1</td>\n",
       "      <td>0</td>\n",
       "      <td>0</td>\n",
       "      <td>...</td>\n",
       "      <td>False</td>\n",
       "      <td>NaN</td>\n",
       "      <td>{'html_tweet': '𝗜𝗻𝗴𝗿𝗶𝗱 𝗕𝗲𝗰𝗸 @soyingridbeck·Oct...</td>\n",
       "      <td>from: @soyingridbeck</td>\n",
       "      <td>2023-10-10T17:43:36.612322+00:00</td>\n",
       "      <td>1er debate</td>\n",
       "      <td>2023-10-02 11:42:30+00:00</td>\n",
       "      <td>2023-10-02 08:42:30-03:00</td>\n",
       "      <td>2023-10-02</td>\n",
       "      <td>[]</td>\n",
       "    </tr>\n",
       "    <tr>\n",
       "      <th>2</th>\n",
       "      <td>1708810804101853498</td>\n",
       "      <td>@kgalperin</td>\n",
       "      <td>https://x.com/kgalperin/status/170881080410185...</td>\n",
       "      <td>Me asombra esa interpretación, q expresa muy b...</td>\n",
       "      <td>NaN</td>\n",
       "      <td>NaN</td>\n",
       "      <td>2023-10-02T11:46:58+00:00</td>\n",
       "      <td>0</td>\n",
       "      <td>0</td>\n",
       "      <td>1</td>\n",
       "      <td>...</td>\n",
       "      <td>False</td>\n",
       "      <td>NaN</td>\n",
       "      <td>{'html_tweet': 'Karina Galperin@kgalperin·Oct ...</td>\n",
       "      <td>to: @soyingridbeck</td>\n",
       "      <td>2023-10-10T18:22:43.429345+00:00</td>\n",
       "      <td>1er debate</td>\n",
       "      <td>2023-10-02 11:46:58+00:00</td>\n",
       "      <td>2023-10-02 08:46:58-03:00</td>\n",
       "      <td>2023-10-02</td>\n",
       "      <td>[]</td>\n",
       "    </tr>\n",
       "  </tbody>\n",
       "</table>\n",
       "<p>3 rows × 23 columns</p>\n",
       "</div>"
      ],
      "text/plain": [
       "              tweet_id        username  \\\n",
       "0  1708973726455181497  @soyingridbeck   \n",
       "1  1708809681924243938  @soyingridbeck   \n",
       "2  1708810804101853498      @kgalperin   \n",
       "\n",
       "                                                 url  \\\n",
       "0  https://x.com/soyingridbeck/status/17089737264...   \n",
       "1  https://x.com/soyingridbeck/status/17088096819...   \n",
       "2  https://x.com/kgalperin/status/170881080410185...   \n",
       "\n",
       "                                                text image  video  \\\n",
       "0  Sólo @SergioMassa y @myriambregman abordaron a...   NaN    NaN   \n",
       "1               ¿Irse a Marbella en un yate de lujo?   NaN    NaN   \n",
       "2  Me asombra esa interpretación, q expresa muy b...   NaN    NaN   \n",
       "\n",
       "                        date  reply  retweet  like  ...  is_rt rt_by  \\\n",
       "0  2023-10-02T22:34:22+00:00      0        3    17  ...  False   NaN   \n",
       "1  2023-10-02T11:42:30+00:00      1        0     0  ...  False   NaN   \n",
       "2  2023-10-02T11:46:58+00:00      0        0     1  ...  False   NaN   \n",
       "\n",
       "                                                 raw            query_type  \\\n",
       "0  {'html_tweet': '𝗜𝗻𝗴𝗿𝗶𝗱 𝗕𝗲𝗰𝗸 @soyingridbeck·Oct...  from: @soyingridbeck   \n",
       "1  {'html_tweet': '𝗜𝗻𝗴𝗿𝗶𝗱 𝗕𝗲𝗰𝗸 @soyingridbeck·Oct...  from: @soyingridbeck   \n",
       "2  {'html_tweet': 'Karina Galperin@kgalperin·Oct ...    to: @soyingridbeck   \n",
       "\n",
       "                         scraped_at       event              date_cleansed  \\\n",
       "0  2023-10-10T17:43:36.448550+00:00  1er debate  2023-10-02 22:34:22+00:00   \n",
       "1  2023-10-10T17:43:36.612322+00:00  1er debate  2023-10-02 11:42:30+00:00   \n",
       "2  2023-10-10T18:22:43.429345+00:00  1er debate  2023-10-02 11:46:58+00:00   \n",
       "\n",
       "                  date_local     dt_date label  \n",
       "0  2023-10-02 19:34:22-03:00  2023-10-02    []  \n",
       "1  2023-10-02 08:42:30-03:00  2023-10-02    []  \n",
       "2  2023-10-02 08:46:58-03:00  2023-10-02    []  \n",
       "\n",
       "[3 rows x 23 columns]"
      ]
     },
     "execution_count": 9,
     "metadata": {},
     "output_type": "execute_result"
    }
   ],
   "source": [
    "filtered_df.head(3)"
   ]
  },
  {
   "cell_type": "code",
   "execution_count": 8,
   "metadata": {},
   "outputs": [],
   "source": [
    "filtered_df.to_csv(\"../data/processed/datos_etiquetados.csv\", index=False)"
   ]
  }
 ],
 "metadata": {
  "kernelspec": {
   "display_name": "elecciones_argentina_2023-1wwx-vGm",
   "language": "python",
   "name": "python3"
  },
  "language_info": {
   "codemirror_mode": {
    "name": "ipython",
    "version": 3
   },
   "file_extension": ".py",
   "mimetype": "text/x-python",
   "name": "python",
   "nbconvert_exporter": "python",
   "pygments_lexer": "ipython3",
   "version": "3.11.7"
  }
 },
 "nbformat": 4,
 "nbformat_minor": 2
}
