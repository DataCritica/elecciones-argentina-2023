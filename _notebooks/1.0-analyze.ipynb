{
 "cells": [
  {
   "cell_type": "code",
   "execution_count": 1,
   "metadata": {},
   "outputs": [],
   "source": [
    "import pandas as pd\n",
    "import numpy as np\n",
    "import spacy\n",
    "import re\n",
    "import plotly.express as px\n",
    "\n",
    "nlp = spacy.load('es_core_news_sm')"
   ]
  },
  {
   "cell_type": "code",
   "execution_count": 9,
   "metadata": {},
   "outputs": [
    {
     "name": "stdout",
     "output_type": "stream",
     "text": [
      "55374\n"
     ]
    }
   ],
   "source": [
    "df = pd.read_csv('../data/raw/elecciones_argentina.csv')\n",
    "\n",
    "# Convert the 'date_local' column to datetime format\n",
    "df['date_local'] = pd.to_datetime(df['date_local'])\n",
    "\n",
    "print(len(df))"
   ]
  },
  {
   "cell_type": "code",
   "execution_count": 3,
   "metadata": {},
   "outputs": [
    {
     "data": {
      "text/plain": [
       "0    [#DebatePresidencial2023]\n",
       "1                          NaN\n",
       "2                          NaN\n",
       "Name: hashtags, dtype: object"
      ]
     },
     "execution_count": 3,
     "metadata": {},
     "output_type": "execute_result"
    }
   ],
   "source": [
    "df['hashtags'] = df['text'].apply(lambda x: np.nan if pd.isnull(x) or not isinstance(x, str) or len(re.findall(r'#\\w+', x)) == 0 else re.findall(r'#\\w+', x))\n",
    "\n",
    "df['hashtags'].head(3)"
   ]
  },
  {
   "cell_type": "code",
   "execution_count": 4,
   "metadata": {},
   "outputs": [
    {
     "data": {
      "text/plain": [
       "0    #DebatePresidencial2023\n",
       "1                        NaN\n",
       "2                        NaN\n",
       "Name: hashtags, dtype: object"
      ]
     },
     "execution_count": 4,
     "metadata": {},
     "output_type": "execute_result"
    }
   ],
   "source": [
    "df['hashtags'] = df['hashtags'].apply(lambda x: ', '.join(x) if isinstance(x, list) else x)\n",
    "\n",
    "df['hashtags'].head(3)\n"
   ]
  },
  {
   "cell_type": "code",
   "execution_count": 5,
   "metadata": {},
   "outputs": [
    {
     "data": {
      "text/plain": [
       "#MileiPresidente             52\n",
       "#Debate2023                  51\n",
       "#MassaPresidente             40\n",
       "#EleccionesArgentina2023     32\n",
       "#DebatePresidencial2023      26\n",
       "#DebatePresidencial          25\n",
       "#Milei                       24\n",
       "#Elecciones2023              21\n",
       "#MileiPresidente2023         21\n",
       "#MassaPresidente2023         21\n",
       "#Argentina                   20\n",
       "#Massa                       20\n",
       "#Viviana1079                 18\n",
       "#ElClubDelMoro               17\n",
       "#MileiVillarruel2023         16\n",
       "#MileiNo                     16\n",
       "#MassaNoVasASerPresidente    15\n",
       "#EleccionesArgentina         13\n",
       "#GranHermano                 12\n",
       "#PatoPresidente              12\n",
       "Name: count, dtype: int64"
      ]
     },
     "execution_count": 5,
     "metadata": {},
     "output_type": "execute_result"
    }
   ],
   "source": [
    "# convert dataframe column to list\n",
    "hashtags = df['hashtags'].unique()\n",
    "\n",
    "# remove nan items from list\n",
    "hashtags = [x for x in hashtags if not pd.isna(x)]\n",
    "\n",
    "# split items into a list based on a delimiter\n",
    "hashtags = [x.split(',') for x in hashtags]\n",
    "\n",
    "# flatten list of lists\n",
    "hashtags = [item for sublist in hashtags for item in sublist]\n",
    "\n",
    "# remove whitespaces\n",
    "hashtags = list(map(lambda x: x.replace(' ', ''), hashtags))\n",
    "\n",
    "# count items on list\n",
    "hashtags_count = pd.Series(hashtags).value_counts()\n",
    "\n",
    "# return first n rows in descending order\n",
    "top_hashtags = hashtags_count.nlargest(20)\n",
    "\n",
    "top_hashtags"
   ]
  },
  {
   "cell_type": "code",
   "execution_count": 6,
   "metadata": {},
   "outputs": [
    {
     "data": {
      "text/plain": [
       "0    [SergioMassa, myriambregman, Letra_P]\n",
       "1                                      NaN\n",
       "2                                      NaN\n",
       "Name: mentions, dtype: object"
      ]
     },
     "execution_count": 6,
     "metadata": {},
     "output_type": "execute_result"
    }
   ],
   "source": [
    "df['mentions'] = df['text'].apply(lambda x: np.nan if pd.isnull(x) or not isinstance(x, str) or len(re.findall(r'@(\\w+)', x)) == 0 else re.findall(r'@(\\w+)', x))\n",
    "\n",
    "df['mentions'].head(3)"
   ]
  },
  {
   "cell_type": "code",
   "execution_count": 7,
   "metadata": {},
   "outputs": [
    {
     "data": {
      "text/plain": [
       "0    SergioMassa, myriambregman, Letra_P\n",
       "1                                    NaN\n",
       "2                                    NaN\n",
       "Name: mentions, dtype: object"
      ]
     },
     "execution_count": 7,
     "metadata": {},
     "output_type": "execute_result"
    }
   ],
   "source": [
    "df['mentions'] = df['mentions'].apply(lambda x: ', '.join(x) if isinstance(x, list) else x)\n",
    "\n",
    "df['mentions'].head(3)"
   ]
  },
  {
   "cell_type": "code",
   "execution_count": 8,
   "metadata": {},
   "outputs": [
    {
     "data": {
      "text/plain": [
       "edufeiok           1011\n",
       "JonatanViale        880\n",
       "JMilei              486\n",
       "vivicanosaok        480\n",
       "PRossiOficial       435\n",
       "majulluis           433\n",
       "lanacionmas         357\n",
       "SergioMassa         281\n",
       "PatoBullrich        263\n",
       "Gatosylvestre       235\n",
       "C5N                 224\n",
       "guadavazquez        213\n",
       "fantinofantino      208\n",
       "luisnovaresio       201\n",
       "todonoticias        195\n",
       "alfleuco            176\n",
       "rialjorge           174\n",
       "VickyVillarruel     148\n",
       "LANACION            136\n",
       "trebuquero          134\n",
       "Name: count, dtype: int64"
      ]
     },
     "execution_count": 8,
     "metadata": {},
     "output_type": "execute_result"
    }
   ],
   "source": [
    "# convert dataframe column to list\n",
    "mentions = df['mentions'].unique()\n",
    "\n",
    "# remove nan items from list\n",
    "mentions = [x for x in mentions if not pd.isna(x)]\n",
    "\n",
    "# split items into a list based on a delimiter\n",
    "mentions = [x.split(',') for x in mentions]\n",
    "\n",
    "# flatten list of lists\n",
    "mentions = [item for sublist in mentions for item in sublist]\n",
    "\n",
    "# remove whitespaces\n",
    "mentions = list(map(lambda x: x.replace(' ', ''), mentions))\n",
    "\n",
    "# count items on list\n",
    "mentions_count = pd.Series(mentions).value_counts()\n",
    "\n",
    "# return first n rows in descending order\n",
    "top_mentions = mentions_count.nlargest(20)\n",
    "\n",
    "top_mentions"
   ]
  }
 ],
 "metadata": {
  "kernelspec": {
   "display_name": "elecciones_argentina_2023-1wwx-vGm",
   "language": "python",
   "name": "python3"
  },
  "language_info": {
   "codemirror_mode": {
    "name": "ipython",
    "version": 3
   },
   "file_extension": ".py",
   "mimetype": "text/x-python",
   "name": "python",
   "nbconvert_exporter": "python",
   "pygments_lexer": "ipython3",
   "version": "3.11.4"
  }
 },
 "nbformat": 4,
 "nbformat_minor": 2
}
